{
 "cells": [
  {
   "cell_type": "code",
   "execution_count": null,
   "id": "7f7e23c6",
   "metadata": {},
   "outputs": [],
   "source": [
    "print(\"철수 점수 입력\")\n",
    "a_scores=[]\n",
    "aa = input(\"수학 점수 입력\")\n",
    "bb = input(\" 점수 입력\")\n",
    "cc = input(\" 점수 입력\")\n",
    "def aver():\n",
    "    "
   ]
  },
  {
   "cell_type": "code",
   "execution_count": 2,
   "id": "e460933e",
   "metadata": {},
   "outputs": [
    {
     "name": "stdout",
     "output_type": "stream",
     "text": [
      "첫 번째 사람:  보\n",
      "두 번째 사람:  가위\n"
     ]
    }
   ],
   "source": [
    "list_rsp=[\"바위\", \"보\", \"가위\"]\n",
    "def rsp(x, y):\n",
    "    print(\"첫 번째 사람: \", list_rsp[x])\n",
    "    print(\"두 번째 사람: \", list_rsp[y])\n",
    "    if x==y:\n",
    "        print(\"비겼습니다\")\n",
    "    elif x-y==2:\n",
    "        print(\"두 번째가 이김\")\n",
    "rsp(input(), input())"
   ]
  },
  {
   "cell_type": "code",
   "execution_count": null,
   "id": "ca41e335",
   "metadata": {},
   "outputs": [],
   "source": [
    "print(\"끝말잇기 시작\")\n",
    "list=[]\n",
    "def check(word, nowword):\n",
    "    \n",
    "\n",
    "print(\"첫 단어를 말해주세요\")\n",
    "list.append(input())\n",
    "abc == true\n",
    "while abc:\n",
    "    print(\"다음 단어를 말해주세요\")\n",
    "    n_input = input(\"다음 단어 입력\")\n",
    "    if abc:\n",
    "        \n",
    "    list.append(input())\n",
    "    if \n",
    "if "
   ]
  },
  {
   "cell_type": "code",
   "execution_count": null,
   "id": "77933344",
   "metadata": {},
   "outputs": [],
   "source": [
    "one_count = 0\n",
    "input_n = input()\n",
    "input_n = int(input_n)\n",
    "\n",
    "for i in range(input_n+1):\n",
    "    str_i = str(i)"
   ]
  },
  {
   "cell_type": "code",
   "execution_count": null,
   "id": "b0fd37c1",
   "metadata": {},
   "outputs": [],
   "source": [
    "item_dict = {\n",
    "    아이폰: (3,3),\n",
    "    \"갤럭시\"\n",
    "    \n",
    "    \n",
    "}"
   ]
  },
  {
   "cell_type": "code",
   "execution_count": null,
   "id": "c15b13bc",
   "metadata": {},
   "outputs": [],
   "source": [
    "lines = input(\"\")\n",
    "lines = lines.split(\" \")\n",
    "print(f\"전체 단어: {len(lines)}\")\n",
    "print(f\"유니크 다너: {len(set(lines))}\"\n",
    "print(\"중볻 단어 출현: \", end=\"\")\n"
   ]
  },
  {
   "cell_type": "code",
   "execution_count": null,
   "id": "0659fc49",
   "metadata": {},
   "outputs": [],
   "source": [
    "input_n = input(\"n: \")\n",
    "def check(_input_n):\n",
    "    _input_n = set(_input_n)\n",
    "    result = set()\n",
    "    for i in _input_n:\n",
    "        \n",
    "not_in_num = check_n(input_n)   \n",
    "if len(not_in_num)==0:\n",
    "    "
   ]
  },
  {
   "cell_type": "code",
   "execution_count": 4,
   "id": "ee236e2d",
   "metadata": {},
   "outputs": [
    {
     "ename": "NameError",
     "evalue": "name 'all_num' is not defined",
     "output_type": "error",
     "traceback": [
      "\u001b[1;31m---------------------------------------------------------------------------\u001b[0m",
      "\u001b[1;31mNameError\u001b[0m                                 Traceback (most recent call last)",
      "\u001b[1;32m~\\AppData\\Local\\Temp/ipykernel_8048/777140088.py\u001b[0m in \u001b[0;36m<module>\u001b[1;34m\u001b[0m\n\u001b[0;32m      1\u001b[0m \u001b[0mall\u001b[0m\u001b[1;33m\u001b[0m\u001b[1;33m\u001b[0m\u001b[0m\n\u001b[0;32m      2\u001b[0m \u001b[0mselectednum\u001b[0m \u001b[1;33m=\u001b[0m \u001b[1;33m[\u001b[0m\u001b[1;33m]\u001b[0m\u001b[1;33m\u001b[0m\u001b[1;33m\u001b[0m\u001b[0m\n\u001b[1;32m----> 3\u001b[1;33m \u001b[1;32mwhile\u001b[0m \u001b[0mlen\u001b[0m\u001b[1;33m(\u001b[0m\u001b[0mall_num\u001b[0m\u001b[1;33m)\u001b[0m \u001b[1;33m==\u001b[0m \u001b[1;36m0\u001b[0m\u001b[1;33m:\u001b[0m\u001b[1;33m\u001b[0m\u001b[1;33m\u001b[0m\u001b[0m\n\u001b[0m\u001b[0;32m      4\u001b[0m     \u001b[0mnow_num\u001b[0m \u001b[1;33m=\u001b[0m \u001b[0mall_num\u001b[0m\u001b[1;33m[\u001b[0m\u001b[1;36m0\u001b[0m\u001b[1;33m]\u001b[0m\u001b[1;33m\u001b[0m\u001b[1;33m\u001b[0m\u001b[0m\n\u001b[0;32m      5\u001b[0m     \u001b[0mselectednum\u001b[0m\u001b[1;33m.\u001b[0m\u001b[0mappend\u001b[0m\u001b[1;33m(\u001b[0m\u001b[0mnow_num\u001b[0m\u001b[1;33m)\u001b[0m\u001b[1;33m\u001b[0m\u001b[1;33m\u001b[0m\u001b[0m\n",
      "\u001b[1;31mNameError\u001b[0m: name 'all_num' is not defined"
     ]
    }
   ],
   "source": [
    "all_num = [i for i in range(2, 100000+1)]\n",
    "selectednum = []\n",
    "while len(all_num) == 0:\n",
    "    now_num = all_num[0]\n",
    "    selectednum.append(now_num)\n",
    "   \n",
    "    for i in all_num:\n",
    "        if i % now_num == 0:\n",
    "            all_num.remove(i)\n",
    "        if i>1000:\n",
    "            break\n",
    "print(selectednum)"
   ]
  },
  {
   "cell_type": "code",
   "execution_count": null,
   "id": "70b381ab",
   "metadata": {},
   "outputs": [],
   "source": [
    "input_n = input()\n",
    "tmp = \"\"\n",
    "for i in reversed(input_n):\n",
    "    tmp += 1\n",
    "print(f\"sum is {int(input_n) + int(tmp)}\")"
   ]
  },
  {
   "cell_type": "markdown",
   "id": "d75b2be1",
   "metadata": {},
   "source": []
  },
  {
   "cell_type": "code",
   "execution_count": null,
   "id": "55494e28",
   "metadata": {},
   "outputs": [],
   "source": [
    "m = input()\n",
    "m = int(m)\n",
    "square_m = []\n",
    "direction = [1, 0]\n",
    "for col in range(m):\n",
    "    square_m[col].append(col*m + row +1)\n",
    "\n",
    "    \n",
    "already = []\n",
    "while len(already) < m*m:\n",
    "    already.append(square_m[now_idx[0]])"
   ]
  }
 ],
 "metadata": {
  "kernelspec": {
   "display_name": "Python 3 (ipykernel)",
   "language": "python",
   "name": "python3"
  },
  "language_info": {
   "codemirror_mode": {
    "name": "ipython",
    "version": 3
   },
   "file_extension": ".py",
   "mimetype": "text/x-python",
   "name": "python",
   "nbconvert_exporter": "python",
   "pygments_lexer": "ipython3",
   "version": "3.9.7"
  }
 },
 "nbformat": 4,
 "nbformat_minor": 5
}

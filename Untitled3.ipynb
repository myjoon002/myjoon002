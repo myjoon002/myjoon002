{
 "cells": [
  {
   "cell_type": "code",
   "execution_count": 7,
   "id": "cf41b3c0",
   "metadata": {},
   "outputs": [
    {
     "ename": "SyntaxError",
     "evalue": "invalid syntax (Temp/ipykernel_7452/3357022551.py, line 6)",
     "output_type": "error",
     "traceback": [
      "\u001b[1;36m  File \u001b[1;32m\"C:\\Users\\myjoo\\AppData\\Local\\Temp/ipykernel_7452/3357022551.py\"\u001b[1;36m, line \u001b[1;32m6\u001b[0m\n\u001b[1;33m    while n=get_ipython().getoutput(' aa:')\u001b[0m\n\u001b[1;37m           ^\u001b[0m\n\u001b[1;31mSyntaxError\u001b[0m\u001b[1;31m:\u001b[0m invalid syntax\n"
     ]
    }
   ],
   "source": [
    "import random\n",
    "rand_num = random.randrange(1,100)\n",
    "\n",
    "aa = rand_num\n",
    "n = 0\n",
    "while n=! aa:\n",
    "    n= input()\n",
    "    if n>aa:\n",
    "        print(\"down\")\n",
    "    else:\n",
    "        print(\"up\")\n",
    "\n",
    "\n"
   ]
  },
  {
   "cell_type": "code",
   "execution_count": 10,
   "id": "3984ee34",
   "metadata": {},
   "outputs": [
    {
     "ename": "SyntaxError",
     "evalue": "invalid syntax (Temp/ipykernel_7452/823477145.py, line 8)",
     "output_type": "error",
     "traceback": [
      "\u001b[1;36m  File \u001b[1;32m\"C:\\Users\\myjoo\\AppData\\Local\\Temp/ipykernel_7452/823477145.py\"\u001b[1;36m, line \u001b[1;32m8\u001b[0m\n\u001b[1;33m    if dd==global aa or ee=global bb or ff==global cc:\u001b[0m\n\u001b[1;37m           ^\u001b[0m\n\u001b[1;31mSyntaxError\u001b[0m\u001b[1;31m:\u001b[0m invalid syntax\n"
     ]
    }
   ],
   "source": [
    "import random\n",
    "rand_num = random.randrange(0,9)\n",
    "aa= rand_num\n",
    "bb= rand_num\n",
    "cc= rand_num\n",
    "dd\n",
    "def baseball(dd, ee, ff):\n",
    "    if dd==global aa or ee=global bb or ff==global cc:\n",
    "        print(\"strike\")\n",
    "    elif dd!=aa and dd!=bb and dd!=cc and ff!=aa and ff!=bb and ff!=cc and ee!=aa and ee!=bb and ee!=cc:\n",
    "        print(\"out\")\n",
    "    elif dd!=aa and dd=bb or dd=cc or ee!=bb and ee=aa or ee=cc or ff!=cc and ff=bb or ff=aa:\n",
    "        print(\"ball\")\n",
    "    elif dd==aa and ee==bb and ff==cc:\n",
    "        print(\"you win\")\n",
    "for i in range(9):\n",
    "    baseball(input(),input(),input())\n",
    "\n"
   ]
  },
  {
   "cell_type": "code",
   "execution_count": null,
   "id": "09706c42",
   "metadata": {},
   "outputs": [],
   "source": []
  }
 ],
 "metadata": {
  "kernelspec": {
   "display_name": "Python 3 (ipykernel)",
   "language": "python",
   "name": "python3"
  },
  "language_info": {
   "codemirror_mode": {
    "name": "ipython",
    "version": 3
   },
   "file_extension": ".py",
   "mimetype": "text/x-python",
   "name": "python",
   "nbconvert_exporter": "python",
   "pygments_lexer": "ipython3",
   "version": "3.9.7"
  }
 },
 "nbformat": 4,
 "nbformat_minor": 5
}

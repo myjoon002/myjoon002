{
 "cells": [
  {
   "cell_type": "code",
   "execution_count": 1,
   "id": "38e31424",
   "metadata": {},
   "outputs": [
    {
     "name": "stdout",
     "output_type": "stream",
     "text": [
      "두 정수를 입력하시오:\n",
      "13\n"
     ]
    }
   ],
   "source": [
    "print (정수를 입력하시오:)\n",
    "aa = input(\"정수를 입력하시오:\")\n",
    "bb = input(\"정수를 입력하시오:\")\n",
    "aa = int(aa)\n",
    "bb"
   ]
  },
  {
   "cell_type": "code",
   "execution_count": 2,
   "id": "70efc85f",
   "metadata": {},
   "outputs": [
    {
     "name": "stdout",
     "output_type": "stream",
     "text": [
      "정수를 입력하시오:1\n",
      "정수를 입력하시오:2\n",
      "1\n"
     ]
    }
   ],
   "source": [
    "x = input(\"정수를 입력하시오:\")\n",
    "y = input(\"정수를 입력하시오:\")\n",
    "x = int(x)\n",
    "y = int(y)\n",
    "if x>0 and y>0:\n",
    "    print(\"1\")\n",
    "elif x<0 and y>0:\n",
    "    print(\"2\")\n",
    "elif x<0 and y<0:\n",
    "    print(\"3\")\n",
    "elif x>0 and y<0:\n",
    "    print(\"4\")"
   ]
  },
  {
   "cell_type": "code",
   "execution_count": null,
   "id": "307563f2",
   "metadata": {},
   "outputs": [],
   "source": [
    "input((x,y))"
   ]
  },
  {
   "cell_type": "code",
   "execution_count": 11,
   "id": "be450fa1",
   "metadata": {},
   "outputs": [
    {
     "name": "stdout",
     "output_type": "stream",
     "text": [
      "정수를 입력하시오7\n",
      "정수를 입력하시오14\n"
     ]
    },
    {
     "data": {
      "text/plain": [
       "7"
      ]
     },
     "execution_count": 11,
     "metadata": {},
     "output_type": "execute_result"
    }
   ],
   "source": [
    "\n",
    "gc= int(gc)\n",
    "def gcd(x, y):\n",
    "    x= int(x)\n",
    "    y= int(y)\n",
    "    if x<y:\n",
    "        for i in range(1, x+1, 1):\n",
    "            if x%i==0 and y%i==0:\n",
    "                gc=i\n",
    "    else:\n",
    "        for i in range(1, y+1, 1):\n",
    "            if x%i==0 and y%i==0:\n",
    "                gc=i\n",
    "    return gc\n",
    "gcd(input(\"정수를 입력하시오\"),input(\"정수를 입력하시오\"))"
   ]
  },
  {
   "cell_type": "code",
   "execution_count": null,
   "id": "90b54028",
   "metadata": {},
   "outputs": [],
   "source": [
    "\n",
    "\n",
    "def print_reverse():\n",
    "    aa= input()\n",
    "    "
   ]
  }
 ],
 "metadata": {
  "kernelspec": {
   "display_name": "Python 3 (ipykernel)",
   "language": "python",
   "name": "python3"
  },
  "language_info": {
   "codemirror_mode": {
    "name": "ipython",
    "version": 3
   },
   "file_extension": ".py",
   "mimetype": "text/x-python",
   "name": "python",
   "nbconvert_exporter": "python",
   "pygments_lexer": "ipython3",
   "version": "3.9.7"
  }
 },
 "nbformat": 4,
 "nbformat_minor": 5
}
